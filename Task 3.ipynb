{
  "cells": [
    {
      "cell_type": "code",
      "source": [
        "import numpy as np\n",
        "import pandas as pd\n",
        "import matplotlib.pyplot as plt\n",
        "from sklearn.preprocessing import MinMaxScaler\n",
        "from tensorflow.keras.models import Sequential\n",
        "from tensorflow.keras.layers import LSTM, Dense"
      ],
      "metadata": {
        "id": "ul_glbKxuR0w"
      },
      "execution_count": 19,
      "outputs": []
    },
    {
      "cell_type": "code",
      "source": [
        "# Load the stock price data from a CSV file\n",
        "data = pd.read_csv('/content/AAPL.csv')\n",
        "\n",
        "# Extract the 'Close' prices\n",
        "stock_prices = data['Close'].values.reshape(-1, 1)"
      ],
      "metadata": {
        "id": "KPaez7yAuR24"
      },
      "execution_count": 20,
      "outputs": []
    },
    {
      "cell_type": "code",
      "source": [
        "# Normalize the stock prices\n",
        "scaler = MinMaxScaler(feature_range=(0, 1))\n",
        "normalized_prices = scaler.fit_transform(stock_prices)\n",
        "\n",
        "# Split the data into training and testing sets\n",
        "train_size = int(len(normalized_prices) * 0.8)\n",
        "train_data = normalized_prices[:train_size]\n",
        "test_data = normalized_prices[train_size:]"
      ],
      "metadata": {
        "id": "H3MPvDzpuR5A"
      },
      "execution_count": 21,
      "outputs": []
    },
    {
      "cell_type": "code",
      "source": [
        "def create_dataset(data, lookback):\n",
        "    X, y = [], []\n",
        "    for i in range(len(data) - lookback):\n",
        "        X.append(data[i:i+lookback, 0])\n",
        "        y.append(data[i+lookback, 0])\n",
        "    return np.array(X), np.array(y)\n",
        "\n",
        "lookback = 30  # Number of previous days' prices to use as input\n",
        "X_train, y_train = create_dataset(train_data, lookback)"
      ],
      "metadata": {
        "id": "BGPhbToMuR9T"
      },
      "execution_count": 22,
      "outputs": []
    },
    {
      "cell_type": "code",
      "source": [
        "model = Sequential()\n",
        "model.add(LSTM(50, return_sequences=True, input_shape=(lookback, 1)))\n",
        "model.add(LSTM(50))\n",
        "model.add(Dense(1))\n",
        "model.compile(loss='mean_squared_error', optimizer='adam')\n",
        "model.fit(X_train, y_train, epochs=50, batch_size=32)"
      ],
      "metadata": {
        "colab": {
          "base_uri": "https://localhost:8080/"
        },
        "id": "I7F1LRPsuR_S",
        "outputId": "68d01e9f-1510-43de-a28a-88335e632e03"
      },
      "execution_count": 17,
      "outputs": [
        {
          "output_type": "stream",
          "name": "stdout",
          "text": [
            "Epoch 1/50\n",
            "260/260 [==============================] - 13s 32ms/step - loss: 1.8061e-05\n",
            "Epoch 2/50\n",
            "260/260 [==============================] - 9s 34ms/step - loss: 3.2423e-06\n",
            "Epoch 3/50\n",
            "260/260 [==============================] - 7s 28ms/step - loss: 2.6265e-06\n",
            "Epoch 4/50\n",
            "260/260 [==============================] - 9s 34ms/step - loss: 2.4755e-06\n",
            "Epoch 5/50\n",
            "260/260 [==============================] - 9s 35ms/step - loss: 2.2213e-06\n",
            "Epoch 6/50\n",
            "260/260 [==============================] - 7s 29ms/step - loss: 2.1119e-06\n",
            "Epoch 7/50\n",
            "260/260 [==============================] - 10s 37ms/step - loss: 1.9887e-06\n",
            "Epoch 8/50\n",
            "260/260 [==============================] - 9s 33ms/step - loss: 2.0243e-06\n",
            "Epoch 9/50\n",
            "260/260 [==============================] - 8s 31ms/step - loss: 1.7145e-06\n",
            "Epoch 10/50\n",
            "260/260 [==============================] - 9s 35ms/step - loss: 1.5473e-06\n",
            "Epoch 11/50\n",
            "260/260 [==============================] - 9s 33ms/step - loss: 1.4604e-06\n",
            "Epoch 12/50\n",
            "260/260 [==============================] - 8s 32ms/step - loss: 1.5185e-06\n",
            "Epoch 13/50\n",
            "260/260 [==============================] - 8s 32ms/step - loss: 1.3922e-06\n",
            "Epoch 14/50\n",
            "260/260 [==============================] - 8s 31ms/step - loss: 1.4610e-06\n",
            "Epoch 15/50\n",
            "260/260 [==============================] - 9s 33ms/step - loss: 1.2525e-06\n",
            "Epoch 16/50\n",
            "260/260 [==============================] - 9s 36ms/step - loss: 1.2008e-06\n",
            "Epoch 17/50\n",
            "260/260 [==============================] - 8s 31ms/step - loss: 1.2716e-06\n",
            "Epoch 18/50\n",
            "260/260 [==============================] - 9s 33ms/step - loss: 1.4716e-06\n",
            "Epoch 19/50\n",
            "260/260 [==============================] - 9s 34ms/step - loss: 1.1229e-06\n",
            "Epoch 20/50\n",
            "260/260 [==============================] - 7s 28ms/step - loss: 1.1389e-06\n",
            "Epoch 21/50\n",
            "260/260 [==============================] - 9s 33ms/step - loss: 1.1856e-06\n",
            "Epoch 22/50\n",
            "260/260 [==============================] - 10s 38ms/step - loss: 1.2758e-06\n",
            "Epoch 23/50\n",
            "260/260 [==============================] - 8s 29ms/step - loss: 1.0114e-06\n",
            "Epoch 24/50\n",
            "260/260 [==============================] - 8s 32ms/step - loss: 8.8667e-07\n",
            "Epoch 25/50\n",
            "260/260 [==============================] - 10s 40ms/step - loss: 9.2564e-07\n",
            "Epoch 26/50\n",
            "260/260 [==============================] - 8s 30ms/step - loss: 1.0185e-06\n",
            "Epoch 27/50\n",
            "260/260 [==============================] - 9s 36ms/step - loss: 8.8067e-07\n",
            "Epoch 28/50\n",
            "260/260 [==============================] - 9s 33ms/step - loss: 9.6383e-07\n",
            "Epoch 29/50\n",
            "260/260 [==============================] - 8s 31ms/step - loss: 7.5597e-07\n",
            "Epoch 30/50\n",
            "260/260 [==============================] - 9s 35ms/step - loss: 8.5016e-07\n",
            "Epoch 31/50\n",
            "260/260 [==============================] - 9s 34ms/step - loss: 9.0228e-07\n",
            "Epoch 32/50\n",
            "260/260 [==============================] - 8s 31ms/step - loss: 7.3371e-07\n",
            "Epoch 33/50\n",
            "260/260 [==============================] - 9s 35ms/step - loss: 8.3380e-07\n",
            "Epoch 34/50\n",
            "260/260 [==============================] - 9s 34ms/step - loss: 8.7030e-07\n",
            "Epoch 35/50\n",
            "260/260 [==============================] - 8s 30ms/step - loss: 6.8550e-07\n",
            "Epoch 36/50\n",
            "260/260 [==============================] - 9s 35ms/step - loss: 8.1007e-07\n",
            "Epoch 37/50\n",
            "260/260 [==============================] - 9s 35ms/step - loss: 8.4134e-07\n",
            "Epoch 38/50\n",
            "260/260 [==============================] - 8s 31ms/step - loss: 6.9128e-07\n",
            "Epoch 39/50\n",
            "260/260 [==============================] - 9s 35ms/step - loss: 8.0959e-07\n",
            "Epoch 40/50\n",
            "260/260 [==============================] - 9s 34ms/step - loss: 7.1593e-07\n",
            "Epoch 41/50\n",
            "260/260 [==============================] - 8s 29ms/step - loss: 6.4003e-07\n",
            "Epoch 42/50\n",
            "260/260 [==============================] - 9s 34ms/step - loss: 5.9596e-07\n",
            "Epoch 43/50\n",
            "260/260 [==============================] - 10s 40ms/step - loss: 6.6433e-07\n",
            "Epoch 44/50\n",
            "260/260 [==============================] - 8s 29ms/step - loss: 7.0639e-07\n",
            "Epoch 45/50\n",
            "260/260 [==============================] - 9s 33ms/step - loss: 6.8783e-07\n",
            "Epoch 46/50\n",
            "260/260 [==============================] - 9s 33ms/step - loss: 5.9635e-07\n",
            "Epoch 47/50\n",
            "260/260 [==============================] - 8s 30ms/step - loss: 6.4405e-07\n",
            "Epoch 48/50\n",
            "260/260 [==============================] - 9s 34ms/step - loss: 6.4616e-07\n",
            "Epoch 49/50\n",
            "260/260 [==============================] - 9s 34ms/step - loss: 6.0583e-07\n",
            "Epoch 50/50\n",
            "260/260 [==============================] - 8s 31ms/step - loss: 7.1635e-07\n"
          ]
        },
        {
          "output_type": "execute_result",
          "data": {
            "text/plain": [
              "<keras.src.callbacks.History at 0x7b9eba30a7a0>"
            ]
          },
          "metadata": {},
          "execution_count": 17
        }
      ]
    },
    {
      "cell_type": "code",
      "source": [
        "# Prepare the testing dataset\n",
        "X_test, y_test = create_dataset(test_data, lookback)\n",
        "\n",
        "# Make predictions\n",
        "predicted_prices = model.predict(X_test)\n",
        "predicted_prices = scaler.inverse_transform(predicted_prices)\n",
        "\n",
        "# Plot the actual and predicted prices\n",
        "plt.plot(stock_prices[train_size+lookback:], label='Actual')\n",
        "plt.plot(predicted_prices, label='Predicted')\n",
        "plt.xlabel('Time')\n",
        "plt.ylabel('Stock Price')\n",
        "plt.legend()\n",
        "plt.show()"
      ],
      "metadata": {
        "colab": {
          "base_uri": "https://localhost:8080/",
          "height": 466
        },
        "id": "C32fnmc2uSBM",
        "outputId": "b3804d29-c276-4b93-f1bf-d98dc0b2aeb5"
      },
      "execution_count": 18,
      "outputs": [
        {
          "output_type": "stream",
          "name": "stdout",
          "text": [
            "65/65 [==============================] - 2s 10ms/step\n"
          ]
        },
        {
          "output_type": "display_data",
          "data": {
            "text/plain": [
              "<Figure size 640x480 with 1 Axes>"
            ],
            "image/png": "[encoded data removed]"
          },
          "metadata": {}
        }
      ]
    }
  ],
  "metadata": {
    "kernelspec": {
      "display_name": "Python 3 (ipykernel)",
      "language": "python",
      "name": "python3"
    },
    "language_info": {
      "codemirror_mode": {
        "name": "ipython",
        "version": 3
      },
      "file_extension": ".py",
      "mimetype": "text/x-python",
      "name": "python",
      "nbconvert_exporter": "python",
      "pygments_lexer": "ipython3",
      "version": "3.9.12"
    },
    "colab": {
      "provenance": []
    }
  },
  "nbformat": 4,
  "nbformat_minor": 0
}